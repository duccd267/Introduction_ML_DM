{
  "cells": [
    {
      "cell_type": "markdown",
      "metadata": {},
      "source": [
        "Prepare data"
      ]
    },
    {
      "cell_type": "code",
      "execution_count": 1,
      "metadata": {},
      "outputs": [],
      "source": [
        "\"\"\"\n",
        "Clean your text to create normalized text represenations.\n",
        "\"\"\"\n",
        "\n",
        "import logging\n",
        "import re\n",
        "import sys\n",
        "from unicodedata import category\n",
        "\n",
        "from emoji import UNICODE_EMOJI, demojize, emojize\n",
        "from ftfy import fix_text\n",
        "\n",
        "from cleantext import constants\n",
        "from cleantext.specials import save_replace\n",
        "from cleantext.utils import remove_substrings\n",
        "\n",
        "log = logging.getLogger()\n",
        "\n",
        "# fall back to `unicodedata`\n",
        "try:\n",
        "    from unidecode import unidecode\n",
        "\n",
        "except ImportError:\n",
        "    from unicodedata import normalize\n",
        "\n",
        "    unidecode = lambda x: normalize(\"NFD\", x).encode(\"ASCII\", \"ignore\").decode(\"utf-8\")\n",
        "    log.warning(\n",
        "        \"Since the GPL-licensed package `unidecode` is not installed, using Python's `unicodedata` package which yields worse results.\"\n",
        "    )\n",
        "\n",
        "\n",
        "def fix_strange_quotes(text):\n",
        "    \"\"\"\n",
        "    Replace strange quotes, i.e., 〞with a single quote ' or a double quote \" if it fits better.\n",
        "    \"\"\"\n",
        "    text = constants.SINGLE_QUOTE_REGEX.sub(\"'\", text)\n",
        "    text = constants.DOUBLE_QUOTE_REGEX.sub('\"', text)\n",
        "    return text\n",
        "\n",
        "\n",
        "def fix_bad_unicode(text, normalization=\"NFC\"):\n",
        "    \"\"\"\n",
        "    Fix unicode text that's \"broken\" using `ftfy <http://ftfy.readthedocs.org/>`_;\n",
        "    this includes mojibake, HTML entities and other code cruft,\n",
        "    and non-standard forms for display purposes.\n",
        "    Args:\n",
        "        text (str): raw text\n",
        "        normalization ({'NFC', 'NFKC', 'NFD', 'NFKD'}): if 'NFC',\n",
        "            combines characters and diacritics written using separate code points,\n",
        "            e.g. converting \"e\" plus an acute accent modifier into \"é\"; unicode\n",
        "            can be converted to NFC form without any change in its meaning!\n",
        "            if 'NFKC', additional normalizations are applied that can change\n",
        "            the meanings of characters, e.g. ellipsis characters will be replaced\n",
        "            with three periods\n",
        "    \"\"\"\n",
        "    # trying to fix backslash-replaced strings (via https://stackoverflow.com/a/57192592/4028896)\n",
        "    try:\n",
        "        text = text.encode(\"latin\", \"backslashreplace\").decode(\"unicode-escape\")\n",
        "    except:\n",
        "        pass\n",
        "\n",
        "    return fix_text(text, normalization=normalization)\n",
        "\n",
        "\n",
        "def to_ascii_unicode(text, lang=\"en\", no_emoji=False):\n",
        "    \"\"\"\n",
        "    Try to represent unicode data in ascii characters similar to what a human\n",
        "    with a US keyboard would choose.\n",
        "    Works great for languages of Western origin, worse the farther the language\n",
        "    gets from Latin-based alphabets. It's based on hand-tuned character mappings\n",
        "    that also contain ascii approximations for symbols and non-Latin alphabets.\n",
        "    \"\"\"\n",
        "    # normalize quotes before since this improves transliteration quality\n",
        "    text = fix_strange_quotes(text)\n",
        "\n",
        "    if not no_emoji:\n",
        "        text = demojize(text, use_aliases=True)\n",
        "\n",
        "    lang = lang.lower()\n",
        "    # special handling for German text to preserve umlauts\n",
        "    if lang == \"de\":\n",
        "        text = save_replace(text, lang=lang)\n",
        "\n",
        "    text = unidecode(text)\n",
        "\n",
        "    # important to remove utility characters\n",
        "    if lang == \"de\":\n",
        "        text = save_replace(text, lang=lang, back=True)\n",
        "\n",
        "    if not no_emoji:\n",
        "        text = emojize(text, use_aliases=True)\n",
        "\n",
        "    return text\n",
        "\n",
        "\n",
        "def normalize_whitespace(\n",
        "    text, no_line_breaks=False, strip_lines=True, keep_two_line_breaks=False\n",
        "):\n",
        "    \"\"\"\n",
        "    Given ``text`` str, replace one or more spacings with a single space, and one\n",
        "    or more line breaks with a single newline. Also strip leading/trailing whitespace.\n",
        "    \"\"\"\n",
        "    if strip_lines:\n",
        "        text = \"\\n\".join([x.strip() for x in text.splitlines()])\n",
        "\n",
        "    if no_line_breaks:\n",
        "        text = constants.MULTI_WHITESPACE_TO_ONE_REGEX.sub(\" \", text)\n",
        "    else:\n",
        "        if keep_two_line_breaks:\n",
        "            text = constants.NONBREAKING_SPACE_REGEX.sub(\n",
        "                \" \", constants.TWO_LINEBREAK_REGEX.sub(r\"\\n\\n\", text)\n",
        "            )\n",
        "        else:\n",
        "            text = constants.NONBREAKING_SPACE_REGEX.sub(\n",
        "                \" \", constants.LINEBREAK_REGEX.sub(r\"\\n\", text)\n",
        "            )\n",
        "\n",
        "    return text.strip()\n",
        "\n",
        "\n",
        "# used below to keep `normalize_whitespace` as a parameter in `clean`\n",
        "def _normalize_whitespace(*kwargs):\n",
        "    return normalize_whitespace(*kwargs)\n",
        "\n",
        "\n",
        "def replace_urls(text, replace_with=\"<URL>\"):\n",
        "    \"\"\"\n",
        "    Replace all URLs in ``text`` str with ``replace_with`` str.\n",
        "    \"\"\"\n",
        "    return constants.URL_REGEX.sub(replace_with, text)\n",
        "\n",
        "\n",
        "def replace_emails(text, replace_with=\"<EMAIL>\"):\n",
        "    \"\"\"\n",
        "    Replace all emails in ``text`` str with ``replace_with`` str.\n",
        "    \"\"\"\n",
        "    return constants.EMAIL_REGEX.sub(replace_with, text)\n",
        "\n",
        "\n",
        "def replace_phone_numbers(text, replace_with=\"<PHONE>\"):\n",
        "    \"\"\"\n",
        "    Replace all phone numbers in ``text`` str with ``replace_with`` str.\n",
        "    \"\"\"\n",
        "    return constants.PHONE_REGEX.sub(replace_with, text)\n",
        "\n",
        "\n",
        "def replace_numbers(text, replace_with=\"<NUMBER>\"):\n",
        "    \"\"\"\n",
        "    Replace all numbers in ``text`` str with ``replace_with`` str.\n",
        "    \"\"\"\n",
        "    return constants.NUMBERS_REGEX.sub(replace_with, text)\n",
        "\n",
        "\n",
        "def replace_digits(text, replace_with=\"0\"):\n",
        "    \"\"\"\n",
        "    Replace all digits in ``text`` str with ``replace_with`` str, i.e., 123.34 to 000.00\n",
        "    \"\"\"\n",
        "    return re.sub(r\"\\d\", replace_with, text)\n",
        "\n",
        "\n",
        "def replace_currency_symbols(text, replace_with=\"<CUR>\"):\n",
        "    \"\"\"\n",
        "    Replace all currency symbols in ``text`` str with string specified by ``replace_with`` str.\n",
        "    Args:\n",
        "        text (str): raw text\n",
        "        replace_with (str): if None (default), replace symbols with\n",
        "            their standard 3-letter abbreviations (e.g. '$' with 'USD', '£' with 'GBP');\n",
        "            otherwise, pass in a string with which to replace all symbols\n",
        "            (e.g. \"*CURRENCY*\")\n",
        "    \"\"\"\n",
        "    if replace_with is None:\n",
        "        for k, v in constants.CURRENCIES.items():\n",
        "            text = text.replace(k, v)\n",
        "        return text\n",
        "    else:\n",
        "        return constants.CURRENCY_REGEX.sub(replace_with, text)\n",
        "\n",
        "\n",
        "def replace_punct(text, replace_with=\" \"):\n",
        "    \"\"\"\n",
        "    Replace punctuations from ``text`` with whitespaces (or other tokens).\n",
        "    \"\"\"\n",
        "    return text.translate(\n",
        "        dict.fromkeys(\n",
        "            (i for i in range(sys.maxunicode) if category(chr(i)).startswith(\"P\")),\n",
        "            replace_with,\n",
        "        )\n",
        "    )\n",
        "\n",
        "\n",
        "def remove_punct(text):\n",
        "    \"\"\"\n",
        "    Remove punctuations from ``text``.\n",
        "    \"\"\"\n",
        "    return text.translate(constants.PUNCT_TRANSLATE_UNICODE)\n",
        "\n",
        "\n",
        "def remove_emoji(text):\n",
        "    return remove_substrings(text, UNICODE_EMOJI[\"en\"])\n",
        "\n",
        "\n",
        "def clean(\n",
        "    text,\n",
        "    fix_unicode=True,\n",
        "    to_ascii=True,\n",
        "    lower=True,\n",
        "    normalize_whitespace=True,\n",
        "    no_line_breaks=False,\n",
        "    strip_lines=True,\n",
        "    keep_two_line_breaks=False,\n",
        "    no_urls=False,\n",
        "    no_emails=False,\n",
        "    no_phone_numbers=False,\n",
        "    no_numbers=False,\n",
        "    no_digits=False,\n",
        "    no_currency_symbols=False,\n",
        "    no_punct=False,\n",
        "    no_emoji=False,\n",
        "    replace_with_url=\"<URL>\",\n",
        "    replace_with_email=\"<EMAIL>\",\n",
        "    replace_with_phone_number=\"<PHONE>\",\n",
        "    replace_with_number=\"<NUMBER>\",\n",
        "    replace_with_digit=\"0\",\n",
        "    replace_with_currency_symbol=\"<CUR>\",\n",
        "    replace_with_punct=\"\",\n",
        "    lang=\"en\",\n",
        "):\n",
        "    \"\"\"\n",
        "    Normalize various aspects of a raw text. A convenience function for applying all other preprocessing functions in one go.\n",
        "    Args:\n",
        "        text (str): raw text to preprocess\n",
        "        fix_unicode (bool): if True, fix \"broken\" unicode such as\n",
        "            mojibake and garbled HTML entities\n",
        "        to_ascii (bool): if True, convert non-to_ascii characters\n",
        "            into their closest to_ascii equivalents\n",
        "        lower (bool): if True, all text is lower-cased\n",
        "        no_line_breaks (bool): if True, strip line breaks from text\n",
        "        no_urls (bool): if True, replace all URL strings with a special URL token\n",
        "        no_emails (bool): if True, replace all email strings with a special EMAIL token\n",
        "        no_phone_numbers (bool): if True, replace all phone number strings\n",
        "            with a special PHONE token\n",
        "        no_numbers (bool): if True, replace all number-like strings\n",
        "            with a special NUMBER token\n",
        "        no_digits (bool): if True, replace all digits with a special DIGIT token\n",
        "        no_currency_symbols (bool): if True, replace all currency symbols\n",
        "            with a special CURRENCY token\n",
        "        no_punct (bool): if True, remove all punctuation (replace with\n",
        "            empty string)\n",
        "        replace_with_url (str): special URL token, default \"<URL>\",\n",
        "        replace_with_email (str): special EMAIL token, default \"<EMAIL>\",\n",
        "        replace_with_phone_number (str): special PHONE token, default \"<PHONE>\",\n",
        "        replace_with_number (str): special NUMBER token, default \"<NUMBER>\",\n",
        "        replace_with_digit (str): special DIGIT token, default \"0\",\n",
        "        replace_with_currency_symbol (str): special CURRENCY token, default \"<CUR>\",\n",
        "        replace_with_punct (str): replace punctuations with this token, default \"\",\n",
        "        lang (str): special language-depended preprocessing. Besides the default English ('en'), only German ('de') is supported\n",
        "\n",
        "    Returns:\n",
        "        str: input ``text`` processed according to function args\n",
        "    \"\"\"\n",
        "\n",
        "    if text is None:\n",
        "        return \"\"\n",
        "\n",
        "    text = str(text)\n",
        "\n",
        "    if fix_unicode:\n",
        "        text = fix_bad_unicode(text)\n",
        "    if no_currency_symbols:\n",
        "        text = replace_currency_symbols(text, replace_with_currency_symbol)\n",
        "    if to_ascii:\n",
        "        text = to_ascii_unicode(text, lang=lang, no_emoji=no_emoji)\n",
        "    if no_urls:\n",
        "        text = replace_urls(text, replace_with_url)\n",
        "    if no_emails:\n",
        "        text = replace_emails(text, replace_with_email)\n",
        "    if no_phone_numbers:\n",
        "        text = replace_phone_numbers(text, replace_with_phone_number)\n",
        "    if no_numbers:\n",
        "        text = replace_numbers(text, replace_with_number)\n",
        "    if no_digits:\n",
        "        text = replace_digits(text, replace_with_digit)\n",
        "    if no_punct:\n",
        "        if replace_with_punct == \"\":\n",
        "            text = remove_punct(text)\n",
        "        else:\n",
        "            text = replace_punct(text, replace_with_punct)\n",
        "\n",
        "    if no_emoji and not to_ascii:\n",
        "        text = remove_emoji(text)\n",
        "\n",
        "    if lower:\n",
        "        text = text.lower()\n",
        "\n",
        "    if normalize_whitespace:\n",
        "        text = _normalize_whitespace(\n",
        "            text, no_line_breaks, strip_lines, keep_two_line_breaks\n",
        "        )\n",
        "\n",
        "    return text\n"
      ]
    },
    {
      "cell_type": "code",
      "execution_count": 2,
      "metadata": {},
      "outputs": [],
      "source": [
        "def mycleaner(text):\n",
        "    text = fix_strange_quotes(text)\n",
        "    text = fix_bad_unicode(text)\n",
        "    text = replace_currency_symbols(text)\n",
        "    text = replace_urls(text)\n",
        "    text = replace_emails(text)\n",
        "    text = replace_phone_numbers(text)\n",
        "    text = replace_numbers(text)\n",
        "    text = replace_digits(text)\n",
        "    text = remove_emoji(text)\n",
        "    text = _normalize_whitespace(text)\n",
        "    return text"
      ]
    },
    {
      "cell_type": "code",
      "execution_count": 3,
      "metadata": {
        "id": "FHfHCUn0ywys"
      },
      "outputs": [
        {
          "ename": "FileNotFoundError",
          "evalue": "[WinError 3] The system cannot find the path specified: 'data'",
          "output_type": "error",
          "traceback": [
            "\u001b[1;31m---------------------------------------------------------------------------\u001b[0m",
            "\u001b[1;31mFileNotFoundError\u001b[0m                         Traceback (most recent call last)",
            "\u001b[1;32md:\\Downloads\\1linearsvc.ipynb Cell 4\u001b[0m in \u001b[0;36m<cell line: 2>\u001b[1;34m()\u001b[0m\n\u001b[0;32m      <a href='vscode-notebook-cell:/d%3A/Downloads/1linearsvc.ipynb#ch0000003?line=0'>1</a>\u001b[0m \u001b[39mimport\u001b[39;00m \u001b[39mos\u001b[39;00m\n\u001b[1;32m----> <a href='vscode-notebook-cell:/d%3A/Downloads/1linearsvc.ipynb#ch0000003?line=1'>2</a>\u001b[0m a \u001b[39m=\u001b[39m os\u001b[39m.\u001b[39;49mlistdir(\u001b[39m'\u001b[39;49m\u001b[39mdata\u001b[39;49m\u001b[39m'\u001b[39;49m)\n\u001b[0;32m      <a href='vscode-notebook-cell:/d%3A/Downloads/1linearsvc.ipynb#ch0000003?line=2'>3</a>\u001b[0m \u001b[39mimport\u001b[39;00m \u001b[39mujson\u001b[39;00m\n\u001b[0;32m      <a href='vscode-notebook-cell:/d%3A/Downloads/1linearsvc.ipynb#ch0000003?line=3'>4</a>\u001b[0m X \u001b[39m=\u001b[39m []\n",
            "\u001b[1;31mFileNotFoundError\u001b[0m: [WinError 3] The system cannot find the path specified: 'data'"
          ]
        }
      ],
      "source": [
        "import os\n",
        "a = os.listdir('data')\n",
        "import ujson\n",
        "X = []\n",
        "y = []\n",
        "for i in a:\n",
        "  with open(f'data/{i}', encoding='utf8') as f:\n",
        "        ls = ujson.load(f)\n",
        "  for l in range(1757):\n",
        "        if 'snippet' in ls[l].keys():\n",
        "            X.append(ls[l]['message']+ls[l]['snippet'])\n",
        "            y.append(i)\n",
        "        else:\n",
        "            X.append(ls[l]['message'])\n",
        "            y.append(i)"
      ]
    },
    {
      "cell_type": "code",
      "execution_count": null,
      "metadata": {},
      "outputs": [],
      "source": [
        "X_clean = []\n",
        "for i in X:\n",
        "    X_clean.append(mycleaner(i))"
      ]
    },
    {
      "cell_type": "code",
      "execution_count": null,
      "metadata": {
        "id": "gQGMgj3aywyx"
      },
      "outputs": [],
      "source": [
        "with open('stopword.txt', encoding='utf8') as f:\n",
        "    stopwords = f.readlines()\n",
        "stopwords = [x.strip().replace(' ', '_') for x in stopwords]"
      ]
    },
    {
      "cell_type": "code",
      "execution_count": null,
      "metadata": {
        "id": "d_SLW7v1ywy0"
      },
      "outputs": [],
      "source": [
        "from sklearn.feature_extraction.text import TfidfVectorizer"
      ]
    },
    {
      "cell_type": "code",
      "execution_count": null,
      "metadata": {
        "id": "14JQDTQuywy0"
      },
      "outputs": [],
      "source": [
        "tfidf = TfidfVectorizer(sublinear_tf=True, min_df=5, ngram_range=(1, 2), stop_words=stopwords) "
      ]
    },
    {
      "cell_type": "code",
      "execution_count": null,
      "metadata": {
        "id": "IdKMxFGDywy1"
      },
      "outputs": [],
      "source": [
        "from sklearn.model_selection import train_test_split"
      ]
    },
    {
      "cell_type": "code",
      "execution_count": null,
      "metadata": {
        "id": "A2s1f5m3ywy1"
      },
      "outputs": [],
      "source": [
        "X_train, X_test, y_train, y_test = train_test_split(X_clean, y, test_size=0.2, random_state=16)"
      ]
    },
    {
      "cell_type": "code",
      "execution_count": null,
      "metadata": {
        "id": "jNVqOcFUywy1"
      },
      "outputs": [],
      "source": [
        "fitted_vectorizer = tfidf.fit(X_train)\n",
        "tfidf_vectorizer_vectors = fitted_vectorizer.transform(X_train)"
      ]
    },
    {
      "cell_type": "markdown",
      "metadata": {},
      "source": [
        "Linear SVC"
      ]
    },
    {
      "cell_type": "code",
      "execution_count": null,
      "metadata": {
        "id": "UezKL7KFywy1"
      },
      "outputs": [],
      "source": [
        "from sklearn.svm import LinearSVC"
      ]
    },
    {
      "cell_type": "code",
      "execution_count": null,
      "metadata": {
        "colab": {
          "base_uri": "https://localhost:8080/"
        },
        "id": "71zZg5Xoywy2",
        "outputId": "b20b3396-e6a9-4ea5-dffe-210d155caa6e"
      },
      "outputs": [
        {
          "name": "stderr",
          "output_type": "stream",
          "text": [
            "/usr/local/lib/python3.7/dist-packages/sklearn/svm/_base.py:1208: ConvergenceWarning: Liblinear failed to converge, increase the number of iterations.\n",
            "  ConvergenceWarning,\n"
          ]
        }
      ],
      "source": [
        "model = LinearSVC(C=1, multi_class='crammer_singer').fit(tfidf_vectorizer_vectors, y_train)"
      ]
    },
    {
      "cell_type": "code",
      "execution_count": null,
      "metadata": {
        "id": "mu-AGIExywy2"
      },
      "outputs": [],
      "source": [
        "data = 'Năm 2019, bàn thắng vàng của Huỳnh Như giúp Việt Nam đánh bại Thái Lan 1-0 để trở lại ngôi vô địch AFF Cup. Cũng với lực lượng nòng cốt đó, Việt Nam vô địch SEA Games 30, SEA Games 31 và đoạt vé dự World Cup 2023.Vì vậy, thầy trò HLV Mai Đức Chung tiếp tục là ứng viên nặng ký, khi đến với giải đấu ở Philippines. Dù thiếu trung vệ Chương Thị Kiều chấn thương, trong khi Thu Thương và Diễm My ngồi ngoài vì lý do tương tự, Việt Nam vẫn được đánh giá cao vượt trội so với Campuchia. Ở lần gặp nhau gần nhất tại SEA Games hồi tháng 5, Việt Nam từng đè bẹp đối thủ 7-0.Bên cạnh Campuchia, các đối thủ còn lại trong bảng đấu là Myanmar, Timor Leste và Lào cũng nằm dưới tầm của Việt Nam. Theo cựu tiền đạo Đỗ Thị Ngọc Châm, việc rơi vào bảng đấu nhẹ giúp các đàn em tiết kiệm được nhiều sức lực cũng như thoải mái cho con đường vào bán kết. \"Ở bảng đấu này, không có lý do gì để không nhất bảng\", Ngọc Châm nói. \"Các đội tuyển non trẻ như Campuchia, Timor Leste và Lào không phải là đối thủ của chúng ta. Việt Nam sẽ dễ dàng giành chiến thắng cách biệt. Chỉ Myanmar là có khả năng cạnh tranh ngôi đầu bảng, nhưng qua những gì thể hiện ở SEA Games 31 vừa qua, tôi tin Việt Nam sẽ đánh bại được đối thủ này\".Chỉ có một khó khăn nhỏ cho Việt Nam là phải thi đấu trên sân cỏ nhân tạo Binan. Dù vậy, chính trên sân đấu này, Việt Nam từng toàn thắng ở SEA Games 30. Trong đội hình hiện tại có bảy cầu thủ TP HCM thường xuyên tập sân nhân tạo Tao Đàn'"
      ]
    },
    {
      "cell_type": "code",
      "execution_count": null,
      "metadata": {
        "colab": {
          "base_uri": "https://localhost:8080/"
        },
        "id": "t9GYzv7xywy2",
        "outputId": "e751e16e-2990-40df-82ff-a92b8058f724"
      },
      "outputs": [
        {
          "name": "stdout",
          "output_type": "stream",
          "text": [
            "['content_thethao_mini.json']\n"
          ]
        }
      ],
      "source": [
        "print(model.predict(fitted_vectorizer.transform([data])))"
      ]
    },
    {
      "cell_type": "code",
      "execution_count": null,
      "metadata": {
        "id": "MstwO_g2ywy3"
      },
      "outputs": [],
      "source": [
        "import pickle"
      ]
    },
    {
      "cell_type": "code",
      "execution_count": null,
      "metadata": {
        "id": "GqaPFCapywy3"
      },
      "outputs": [],
      "source": [
        "filename = 'finalized_model.pkl'\n",
        "pickle.dump(model, open(filename, 'wb'))"
      ]
    },
    {
      "cell_type": "code",
      "execution_count": null,
      "metadata": {
        "id": "6VcxRo3pywy3"
      },
      "outputs": [],
      "source": [
        "filename = 'fitted_vectorizer.pkl'\n",
        "pickle.dump(fitted_vectorizer, open(filename, 'wb'))"
      ]
    },
    {
      "cell_type": "code",
      "execution_count": null,
      "metadata": {
        "colab": {
          "base_uri": "https://localhost:8080/"
        },
        "id": "R8_viBVKywy3",
        "outputId": "7b5f8797-debd-4bfb-eed9-d69ac472b963"
      },
      "outputs": [
        {
          "data": {
            "text/plain": [
              "0.7937777777777778"
            ]
          },
          "execution_count": 42,
          "metadata": {},
          "output_type": "execute_result"
        }
      ],
      "source": [
        "from sklearn.metrics import accuracy_score\n",
        "y_pred=model.predict(fitted_vectorizer.transform(X_test))\n",
        "accuracy_score(y_test, y_pred)"
      ]
    },
    {
      "cell_type": "code",
      "execution_count": null,
      "metadata": {
        "colab": {
          "base_uri": "https://localhost:8080/",
          "height": 279
        },
        "id": "pejK67dVA1IS",
        "outputId": "cec0ca47-8bea-47c4-d345-aec1825a1172"
      },
      "outputs": [
        {
          "data": {
            "image/png": "[encoded data removed]",
            "text/plain": [
              "<Figure size 432x288 with 2 Axes>"
            ]
          },
          "metadata": {
            "needs_background": "light"
          },
          "output_type": "display_data"
        }
      ],
      "source": [
        "from sklearn.metrics import confusion_matrix, ConfusionMatrixDisplay\n",
        "import matplotlib.pyplot as plt\n",
        "\n",
        "disp=ConfusionMatrixDisplay(confusion_matrix(y_test, y_pred))\n",
        "\n",
        "disp.plot()\n",
        "plt.show()"
      ]
    },
    {
      "cell_type": "code",
      "execution_count": null,
      "metadata": {
        "colab": {
          "base_uri": "https://localhost:8080/"
        },
        "id": "KOoj-2naByQS",
        "outputId": "c36e8371-a11a-49c3-b691-278d6d0284b5"
      },
      "outputs": [
        {
          "data": {
            "text/plain": [
              "array([0.86003373, 0.81292517, 0.7862969 , 0.93418941, 0.80872483,\n",
              "       0.55929204, 0.81574803, 0.84797297, 0.82926829, 0.69775475,\n",
              "       0.84820031, 0.96710526, 0.9426087 , 0.5070922 , 0.64111498])"
            ]
          },
          "execution_count": 56,
          "metadata": {},
          "output_type": "execute_result"
        }
      ],
      "source": [
        "from sklearn.metrics import f1_score\n",
        "f1_score(y_test, y_pred, average = None)"
      ]
    },
    {
      "cell_type": "code",
      "execution_count": null,
      "metadata": {
        "colab": {
          "base_uri": "https://localhost:8080/"
        },
        "id": "dJCTI26Dywy3",
        "outputId": "42a5767f-9d6a-43ef-d9a5-2e9b31cf2fc8"
      },
      "outputs": [
        {
          "data": {
            "text/plain": [
              "0.7937777777777778"
            ]
          },
          "execution_count": 39,
          "metadata": {},
          "output_type": "execute_result"
        }
      ],
      "source": [
        "model.score(fitted_vectorizer.transform(X_test), y_test)"
      ]
    },
    {
      "cell_type": "markdown",
      "metadata": {},
      "source": [
        "Multinomial Naive Bayes"
      ]
    },
    {
      "cell_type": "code",
      "execution_count": null,
      "metadata": {
        "id": "5305GQFVAbR5"
      },
      "outputs": [],
      "source": [
        "from sklearn.naive_bayes import MultinomialNB\n",
        "model1 = MultinomialNB(alpha=0.1).fit(tfidf_vectorizer_vectors, y_train)"
      ]
    },
    {
      "cell_type": "code",
      "execution_count": null,
      "metadata": {
        "colab": {
          "base_uri": "https://localhost:8080/"
        },
        "id": "XkefUsbNywy4",
        "outputId": "c64ddbbe-c354-407d-a47f-8569ddfef781"
      },
      "outputs": [
        {
          "data": {
            "text/plain": [
              "0.7555555555555555"
            ]
          },
          "execution_count": 62,
          "metadata": {},
          "output_type": "execute_result"
        }
      ],
      "source": [
        "y_pred1=model1.predict(fitted_vectorizer.transform(X_test))\n",
        "accuracy_score(y_test, y_pred1)"
      ]
    },
    {
      "cell_type": "code",
      "execution_count": null,
      "metadata": {
        "colab": {
          "base_uri": "https://localhost:8080/",
          "height": 279
        },
        "id": "mJfL7FBkIO-U",
        "outputId": "59e193a2-74a3-45e5-8fdc-6ec3972575a8"
      },
      "outputs": [
        {
          "data": {
            "image/png": "[encoded data removed]",
            "text/plain": [
              "<Figure size 432x288 with 2 Axes>"
            ]
          },
          "metadata": {
            "needs_background": "light"
          },
          "output_type": "display_data"
        }
      ],
      "source": [
        "disp=ConfusionMatrixDisplay(confusion_matrix(y_test, y_pred1))\n",
        "\n",
        "disp.plot()\n",
        "plt.show()"
      ]
    },
    {
      "cell_type": "code",
      "execution_count": null,
      "metadata": {
        "colab": {
          "base_uri": "https://localhost:8080/"
        },
        "id": "tjJyg3ZPIVh2",
        "outputId": "f22610d2-6da4-4a6f-d729-f923914a2f43"
      },
      "outputs": [
        {
          "data": {
            "text/plain": [
              "array([0.79456706, 0.68284229, 0.76694215, 0.89171975, 0.66294227,\n",
              "       0.57400722, 0.75035261, 0.85268631, 0.8358209 , 0.67851373,\n",
              "       0.80060423, 0.94527363, 0.94326241, 0.52094718, 0.57091562])"
            ]
          },
          "execution_count": 64,
          "metadata": {},
          "output_type": "execute_result"
        }
      ],
      "source": [
        "f1_score(y_test, y_pred1, average = None)"
      ]
    },
    {
      "cell_type": "code",
      "execution_count": null,
      "metadata": {
        "id": "Ko4rx5djIeMu"
      },
      "outputs": [],
      "source": []
    }
  ],
  "metadata": {
    "colab": {
      "collapsed_sections": [],
      "name": "1linearsvc.ipynb",
      "provenance": []
    },
    "kernelspec": {
      "display_name": "Python 3.9.13 64-bit",
      "language": "python",
      "name": "python3"
    },
    "language_info": {
      "codemirror_mode": {
        "name": "ipython",
        "version": 3
      },
      "file_extension": ".py",
      "mimetype": "text/x-python",
      "name": "python",
      "nbconvert_exporter": "python",
      "pygments_lexer": "ipython3",
      "version": "3.9.13"
    },
    "orig_nbformat": 4,
    "vscode": {
      "interpreter": {
        "hash": "6fff98fc3b3d81bd655c2cc48858186e4d9e2db7b515bf1c3221888f12a62f87"
      }
    }
  },
  "nbformat": 4,
  "nbformat_minor": 0
}
